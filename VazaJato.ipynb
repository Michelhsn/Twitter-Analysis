---
title: "Tweets VazaJato"
output: html_notebook
---



```{r}
library(rtweet)
library(wordcloud)
library(wordcloud2)
library(tm)
library(RColorBrewer)
library(cluster)
library(fpc)
```

```{r}
# carrega tweets
lavajato_tweets <- search_tweets("#VazaJato", n = 10000, include_rts = FALSE, lang = "pt")
View(lavajato_tweets)

```

```{r}
# Análise da frquência de tweets
# Os picos no gráfico estão relacionados a publicação de notícias referentes ao vazamento de diálogos da lava jato.
lavajato_tweets %>%
  ts_plot("1 hours") +
  ggplot2::theme_minimal() +
  ggplot2::theme(plot.title = ggplot2::element_text(face = "bold")) +
  ggplot2::labs(
    x= NULL, y = NULL,
    title = "Frquência da Hashtag VazaJato",
    subtitle = "Tweets por hora",
    caption = "\nSource: Twitter"
  )
```

```{r}

texto_vj <- VCorpus(VectorSource(enc2native(lavajato_tweets$text)))
texto_vj <- tm_map(texto_vj, content_transformer(function(x) iconv(x, to='UTF-8', sub='byte')))
texto_vj <- tm_map(texto_vj, content_transformer(tolower))
texto_vj <- tm_map(texto_vj, removePunctuation)
texto_vj <- tm_map(texto_vj,removeWords, stopwords("portuguese"))

texto_vj
```
```{r}
# Limpando alguns termos
matriz_vj <- DocumentTermMatrix(texto_vj)
frequencia_vj <- colSums(as.matrix(matriz_vj))   
matriz_vj

matriz_vj_clean <- removeSparseTerms(matriz_vj, 0.95) 

frequencia_vj <- colSums(as.matrix(matriz_vj_clean))  
frequencia_vj

```

```{r}
# ajustes finais
text_vj_final <- tm_map(texto_vj, removeWords, c("vazajato", "pra", "mês", "sobre", "vai")) 
matriz_vj_clean <- removeSparseTerms(DocumentTermMatrix(text_vj_final), 0.95) 
frequencia_vj <- colSums(as.matrix(matriz_vj_clean))  
frequencia_vj
```


```{r}
# Exibição da nuvem de palavras
cores <- brewer.pal(5,"Dark2")
wordcloud(names(frequencia_vj),frequencia_vj,min.freq=5,max.words=40, random.order=T, colors=cores)
```

```{r}
df_cloud2 <- as.data.frame(frequencia_vj)
df_cloud2[,2] = df_cloud2[,1]
df_cloud2[,1] = names(frequencia_vj)
wordcloud2(df_cloud2)
              
```

```{r}
# Análise de grupos
distancia <- dist(t(matriz_vj_clean), method="euclidian")  
vj_kmeans <- kmeans(distancia, 3)   
clusplot(as.matrix(distancia), vj_kmeans$cluster, color=T, shade=T, labels=3, lines=0,
         main = "K-Means Tweets VazaJato" ) 

```

